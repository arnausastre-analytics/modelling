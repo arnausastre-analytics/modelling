{
  "nbformat": 4,
  "nbformat_minor": 0,
  "metadata": {
    "colab": {
      "provenance": []
    },
    "kernelspec": {
      "name": "python3",
      "display_name": "Python 3"
    },
    "language_info": {
      "name": "python"
    }
  },
  "cells": [
    {
      "cell_type": "code",
      "execution_count": 1,
      "metadata": {
        "colab": {
          "base_uri": "https://localhost:8080/"
        },
        "id": "iVpmjlO8W--v",
        "outputId": "227ef8a8-6cc5-48f5-db47-2ef1bdf84193"
      },
      "outputs": [
        {
          "output_type": "stream",
          "name": "stdout",
          "text": [
            "Solución óptima encontrada:\n",
            " - Proporción A: 0.75\n",
            " - Proporción B: 0.00\n",
            " - Proporción C: 0.00\n",
            " - Proporción D: 0.25\n",
            " - Coste mínimo: 1.88 €/kg\n",
            " - Pureza final: 72.50% (≥70%)\n",
            " - Densidad final: 1.27 g/cm3 (1.0 - 1.3)\n",
            " - Toxicidad final: 1.75% (≤2%)\n"
          ]
        }
      ],
      "source": [
        "import numpy as np\n",
        "from scipy.optimize import linprog\n",
        "\n",
        "# Coste por kg\n",
        "costs = np.array([2.0, 3.0, 4.0, 1.5])\n",
        "\n",
        "# Restricciones de desigualdad (Ax <= b)\n",
        "\n",
        "# Pureza: >= 70 -> -pureza <= -70\n",
        "A_pureza = [-80, -60, -90, -50]\n",
        "b_pureza = -70\n",
        "\n",
        "# Densidad inferior: >= 1.0 -> -densidad <= -1.0\n",
        "A_dens_inf = [-1.2, -1.0, -0.8, -1.5]\n",
        "b_dens_inf = -1.0\n",
        "\n",
        "# Densidad superior: <= 1.3\n",
        "A_dens_sup = [1.2, 1.0, 0.8, 1.5]\n",
        "b_dens_sup = 1.3\n",
        "\n",
        "# Toxicidad: <= 2\n",
        "A_toxicidad = [1, 3, 0.5, 4]\n",
        "b_toxicidad = 2\n",
        "\n",
        "# Ingrediente A mínimo: x_A >= 0.20 -> -x_A <= -0.20\n",
        "A_Amin = [-1, 0, 0, 0]\n",
        "b_Amin = -0.20\n",
        "\n",
        "# Ingrediente D máximo: x_D <= 0.25\n",
        "A_Dmax = [0, 0, 0, 1]\n",
        "b_Dmax = 0.25\n",
        "\n",
        "A_ub = [A_pureza, A_dens_inf, A_dens_sup, A_toxicidad, A_Amin, A_Dmax]\n",
        "b_ub = [b_pureza, b_dens_inf, b_dens_sup, b_toxicidad, b_Amin, b_Dmax]\n",
        "\n",
        "# Restricción de igualdad: suma = 1\n",
        "A_eq = [[1, 1, 1, 1]]\n",
        "b_eq = [1]\n",
        "\n",
        "# Bounds\n",
        "bounds = [(0, 1) for _ in range(4)]\n",
        "\n",
        "# Resolver\n",
        "result = linprog(\n",
        "    c=costs,\n",
        "    A_ub=A_ub,\n",
        "    b_ub=b_ub,\n",
        "    A_eq=A_eq,\n",
        "    b_eq=b_eq,\n",
        "    bounds=bounds,\n",
        "    method='highs'\n",
        ")\n",
        "\n",
        "# Mostrar resultados\n",
        "if result.success:\n",
        "    x = result.x\n",
        "    total_cost = result.fun\n",
        "    print(\"Solución óptima encontrada:\")\n",
        "    print(f\" - Proporción A: {x[0]:.2f}\")\n",
        "    print(f\" - Proporción B: {x[1]:.2f}\")\n",
        "    print(f\" - Proporción C: {x[2]:.2f}\")\n",
        "    print(f\" - Proporción D: {x[3]:.2f}\")\n",
        "    print(f\" - Coste mínimo: {total_cost:.2f} €/kg\")\n",
        "\n",
        "    pureza = 80*x[0] + 60*x[1] + 90*x[2] + 50*x[3]\n",
        "    densidad = 1.2*x[0] + 1.0*x[1] + 0.8*x[2] + 1.5*x[3]\n",
        "    toxicidad = 1*x[0] + 3*x[1] + 0.5*x[2] + 4*x[3]\n",
        "\n",
        "    print(f\" - Pureza final: {pureza:.2f}% (≥70%)\")\n",
        "    print(f\" - Densidad final: {densidad:.2f} g/cm3 (1.0 - 1.3)\")\n",
        "    print(f\" - Toxicidad final: {toxicidad:.2f}% (≤2%)\")\n",
        "else:\n",
        "    print(\"No se encontró solución factible.\")\n"
      ]
    },
    {
      "cell_type": "code",
      "source": [
        "# Restricciones adicionales:\n",
        "# Ingrediente máximo: x_i ≤ 0.60 para todos\n",
        "A_max = [\n",
        "    [1, 0, 0, 0],  # A ≤ 0.60\n",
        "    [0, 1, 0, 0],  # B ≤ 0.60\n",
        "    [0, 0, 1, 0],  # C ≤ 0.60\n",
        "    [0, 0, 0, 1]   # D ≤ 0.60\n",
        "]\n",
        "b_max = [0.60, 0.60, 0.60, 0.60]\n",
        "\n",
        "# Ingredientes B y C mínimos: x_B ≥ 0.10, x_C ≥ 0.10 -> -x ≤ -0.10\n",
        "A_min = [\n",
        "    [0, -1, 0, 0],  # B ≥ 0.10\n",
        "    [0, 0, -1, 0]   # C ≥ 0.10\n",
        "]\n",
        "b_min = [-0.10, -0.10]\n",
        "\n",
        "# Combinamos con restricciones anteriores\n",
        "A_ub_new = A_ub + A_max + A_min\n",
        "b_ub_new = b_ub + b_max + b_min\n",
        "\n",
        "# Resolver nuevamente\n",
        "result2 = linprog(\n",
        "    c=costs,\n",
        "    A_ub=A_ub_new,\n",
        "    b_ub=b_ub_new,\n",
        "    A_eq=A_eq,\n",
        "    b_eq=b_eq,\n",
        "    bounds=bounds,\n",
        "    method='highs'\n",
        ")\n",
        "\n",
        "# Mostrar resultados del escenario técnico\n",
        "if result2.success:\n",
        "    x2 = result2.x\n",
        "    total_cost2 = result2.fun\n",
        "    print(\"Escenario avanzado: restricciones técnicas adicionales aplicadas\")\n",
        "    print(f\" - Proporción A: {x2[0]:.2f}\")\n",
        "    print(f\" - Proporción B: {x2[1]:.2f}\")\n",
        "    print(f\" - Proporción C: {x2[2]:.2f}\")\n",
        "    print(f\" - Proporción D: {x2[3]:.2f}\")\n",
        "    print(f\" - Coste mínimo: {total_cost2:.2f} €/kg\")\n",
        "\n",
        "    pureza2 = 80*x2[0] + 60*x2[1] + 90*x2[2] + 50*x2[3]\n",
        "    densidad2 = 1.2*x2[0] + 1.0*x2[1] + 0.8*x2[2] + 1.5*x2[3]\n",
        "    toxicidad2 = 1*x2[0] + 3*x2[1] + 0.5*x2[2] + 4*x2[3]\n",
        "\n",
        "    print(f\" - Pureza final: {pureza2:.2f}% (≥70%)\")\n",
        "    print(f\" - Densidad final: {densidad2:.2f} g/cm3 (1.0 - 1.3)\")\n",
        "    print(f\" - Toxicidad final: {toxicidad2:.2f}% (≤2%)\")\n",
        "else:\n",
        "    print(\"No se encontró solución factible para el escenario avanzado.\")\n"
      ],
      "metadata": {
        "colab": {
          "base_uri": "https://localhost:8080/"
        },
        "id": "zOn22XeFW_8U",
        "outputId": "a42d87bd-88a9-4653-9b52-50f81671eb86"
      },
      "execution_count": 2,
      "outputs": [
        {
          "output_type": "stream",
          "name": "stdout",
          "text": [
            "Escenario avanzado: restricciones técnicas adicionales aplicadas\n",
            " - Proporción A: 0.55\n",
            " - Proporción B: 0.10\n",
            " - Proporción C: 0.10\n",
            " - Proporción D: 0.25\n",
            " - Coste mínimo: 2.18 €/kg\n",
            " - Pureza final: 71.50% (≥70%)\n",
            " - Densidad final: 1.22 g/cm3 (1.0 - 1.3)\n",
            " - Toxicidad final: 1.90% (≤2%)\n"
          ]
        }
      ]
    },
    {
      "cell_type": "code",
      "source": [],
      "metadata": {
        "id": "iUvQpQNJXjCn"
      },
      "execution_count": null,
      "outputs": []
    }
  ]
}
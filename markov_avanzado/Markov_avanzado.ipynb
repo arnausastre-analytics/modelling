{
  "nbformat": 4,
  "nbformat_minor": 0,
  "metadata": {
    "colab": {
      "provenance": []
    },
    "kernelspec": {
      "name": "python3",
      "display_name": "Python 3"
    },
    "language_info": {
      "name": "python"
    }
  },
  "cells": [
    {
      "cell_type": "code",
      "execution_count": 1,
      "metadata": {
        "colab": {
          "base_uri": "https://localhost:8080/"
        },
        "id": "boZra02wZJ1_",
        "outputId": "8dbdd32b-ea6f-4653-a4d8-813892089c48"
      },
      "outputs": [
        {
          "output_type": "stream",
          "name": "stdout",
          "text": [
            "Distribución estacionaria (solo transitorios):\n",
            "Activo: 0.290, Activo alto valor: 0.446, Inactivo: 0.213, Recuperado: 0.050\n",
            "\n",
            "Probabilidad de terminar absorbido ('Perdido') desde cada estado inicial:\n",
            "Desde Activo: 1.000\n",
            "Desde Activo alto valor: 1.000\n",
            "Desde Inactivo: 1.000\n",
            "Desde Recuperado: 1.000\n",
            "\n",
            "Tiempo esperado (meses) hasta pérdida desde cada estado inicial:\n",
            "Desde Activo: 12.22 meses\n",
            "Desde Activo alto valor: 14.72 meses\n",
            "Desde Inactivo: 11.94 meses\n",
            "Desde Recuperado: 12.22 meses\n"
          ]
        }
      ],
      "source": [
        "import numpy as np\n",
        "\n",
        "# Estados: 0=Activo, 1=Activo alto valor, 2=Inactivo, 3=Recuperado, 4=Perdido\n",
        "P = np.array([\n",
        "    [0.70, 0.10, 0.10, 0.00, 0.10],\n",
        "    [0.05, 0.85, 0.05, 0.00, 0.05],\n",
        "    [0.10, 0.05, 0.65, 0.10, 0.10],\n",
        "    [0.50, 0.10, 0.10, 0.20, 0.10],\n",
        "    [0.00, 0.00, 0.00, 0.00, 1.00]\n",
        "])\n",
        "\n",
        "# Estados transitorios: 0-3\n",
        "Q = P[:4, :4]\n",
        "\n",
        "# Absorbentes: 4\n",
        "R = P[:4, 4].reshape(-1, 1)\n",
        "\n",
        "I = np.eye(4)\n",
        "\n",
        "# Distribución estacionaria (en transitorios)\n",
        "A = np.vstack([Q.T - I, np.ones(4)])\n",
        "b = np.append(np.zeros(4), 1)\n",
        "\n",
        "pi = np.linalg.lstsq(A, b, rcond=None)[0]\n",
        "print(\"Distribución estacionaria (solo transitorios):\")\n",
        "print(f\"Activo: {pi[0]:.3f}, Activo alto valor: {pi[1]:.3f}, Inactivo: {pi[2]:.3f}, Recuperado: {pi[3]:.3f}\")\n",
        "\n",
        "# Matriz fundamental N\n",
        "N = np.linalg.inv(I - Q)\n",
        "\n",
        "# Probabilidad de absorción\n",
        "B = N @ R\n",
        "print(\"\\nProbabilidad de terminar absorbido ('Perdido') desde cada estado inicial:\")\n",
        "print(f\"Desde Activo: {B[0][0]:.3f}\")\n",
        "print(f\"Desde Activo alto valor: {B[1][0]:.3f}\")\n",
        "print(f\"Desde Inactivo: {B[2][0]:.3f}\")\n",
        "print(f\"Desde Recuperado: {B[3][0]:.3f}\")\n",
        "\n",
        "# Tiempo esperado hasta absorción\n",
        "t = N @ np.ones((4, 1))\n",
        "print(\"\\nTiempo esperado (meses) hasta pérdida desde cada estado inicial:\")\n",
        "print(f\"Desde Activo: {t[0][0]:.2f} meses\")\n",
        "print(f\"Desde Activo alto valor: {t[1][0]:.2f} meses\")\n",
        "print(f\"Desde Inactivo: {t[2][0]:.2f} meses\")\n",
        "print(f\"Desde Recuperado: {t[3][0]:.2f} meses\")\n"
      ]
    },
    {
      "cell_type": "code",
      "source": [
        "# Nueva matriz P' con efectos de campaña de retención\n",
        "P_prime = np.array([\n",
        "    [0.70, 0.10, 0.10, 0.00, 0.10],\n",
        "    [0.05, 0.85, 0.05, 0.00, 0.05],\n",
        "    [0.20, 0.10, 0.60, 0.05, 0.05],  # mejora retención desde Inactivo\n",
        "    [0.60, 0.20, 0.10, 0.00, 0.10],  # mejora retención desde Recuperado\n",
        "    [0.00, 0.00, 0.00, 0.00, 1.00]\n",
        "])\n",
        "\n",
        "# Estados transitorios: 0-3\n",
        "Q_prime = P_prime[:4, :4]\n",
        "R_prime = P_prime[:4, 4].reshape(-1, 1)\n",
        "I = np.eye(4)\n",
        "\n",
        "# Distribución estacionaria (nuevo escenario)\n",
        "A_prime = np.vstack([Q_prime.T - I, np.ones(4)])\n",
        "b_prime = np.append(np.zeros(4), 1)\n",
        "\n",
        "pi_prime = np.linalg.lstsq(A_prime, b_prime, rcond=None)[0]\n",
        "print(\"Distribución estacionaria tras campaña de retención:\")\n",
        "print(f\"Activo: {pi_prime[0]:.3f}, Activo alto valor: {pi_prime[1]:.3f}, Inactivo: {pi_prime[2]:.3f}, Recuperado: {pi_prime[3]:.3f}\")\n",
        "\n",
        "# Matriz fundamental\n",
        "N_prime = np.linalg.inv(I - Q_prime)\n",
        "\n",
        "# Probabilidad de absorción\n",
        "B_prime = N_prime @ R_prime\n",
        "print(\"\\nProbabilidad de terminar absorbido ('Perdido') tras campaña:\")\n",
        "print(f\"Desde Activo: {B_prime[0][0]:.3f}\")\n",
        "print(f\"Desde Activo alto valor: {B_prime[1][0]:.3f}\")\n",
        "print(f\"Desde Inactivo: {B_prime[2][0]:.3f}\")\n",
        "print(f\"Desde Recuperado: {B_prime[3][0]:.3f}\")\n",
        "\n",
        "# Tiempo esperado hasta absorción\n",
        "t_prime = N_prime @ np.ones((4, 1))\n",
        "print(\"\\nTiempo esperado (meses) hasta pérdida tras campaña:\")\n",
        "print(f\"Desde Activo: {t_prime[0][0]:.2f} meses\")\n",
        "print(f\"Desde Activo alto valor: {t_prime[1][0]:.2f} meses\")\n",
        "print(f\"Desde Inactivo: {t_prime[2][0]:.2f} meses\")\n",
        "print(f\"Desde Recuperado: {t_prime[3][0]:.2f} meses\")\n"
      ],
      "metadata": {
        "colab": {
          "base_uri": "https://localhost:8080/"
        },
        "id": "22xx79phaA_I",
        "outputId": "8749b569-7542-43dc-d515-05310cc376c2"
      },
      "execution_count": 2,
      "outputs": [
        {
          "output_type": "stream",
          "name": "stdout",
          "text": [
            "Distribución estacionaria tras campaña de retención:\n",
            "Activo: 0.306, Activo alto valor: 0.483, Inactivo: 0.186, Recuperado: 0.025\n",
            "\n",
            "Probabilidad de terminar absorbido ('Perdido') tras campaña:\n",
            "Desde Activo: 1.000\n",
            "Desde Activo alto valor: 1.000\n",
            "Desde Inactivo: 1.000\n",
            "Desde Recuperado: 1.000\n",
            "\n",
            "Tiempo esperado (meses) hasta pérdida tras campaña:\n",
            "Desde Activo: 13.92 meses\n",
            "Desde Activo alto valor: 16.42 meses\n",
            "Desde Inactivo: 15.33 meses\n",
            "Desde Recuperado: 14.17 meses\n"
          ]
        }
      ]
    },
    {
      "cell_type": "code",
      "source": [],
      "metadata": {
        "id": "K3ZOHhqraZfg"
      },
      "execution_count": null,
      "outputs": []
    }
  ]
}
{
  "nbformat": 4,
  "nbformat_minor": 0,
  "metadata": {
    "colab": {
      "provenance": []
    },
    "kernelspec": {
      "name": "python3",
      "display_name": "Python 3"
    },
    "language_info": {
      "name": "python"
    }
  },
  "cells": [
    {
      "cell_type": "code",
      "source": [
        "!pip install nashpy\n"
      ],
      "metadata": {
        "colab": {
          "base_uri": "https://localhost:8080/"
        },
        "id": "af1aPkbkcfPo",
        "outputId": "0854d8ee-1063-4acd-a3e2-24aed02f990e"
      },
      "execution_count": 2,
      "outputs": [
        {
          "output_type": "stream",
          "name": "stdout",
          "text": [
            "Collecting nashpy\n",
            "  Downloading nashpy-0.0.41-py3-none-any.whl.metadata (6.6 kB)\n",
            "Requirement already satisfied: numpy>=1.21.0 in /usr/local/lib/python3.11/dist-packages (from nashpy) (2.0.2)\n",
            "Requirement already satisfied: scipy>=0.19.0 in /usr/local/lib/python3.11/dist-packages (from nashpy) (1.16.0)\n",
            "Requirement already satisfied: networkx>=3.0.0 in /usr/local/lib/python3.11/dist-packages (from nashpy) (3.5)\n",
            "Collecting deprecated>=1.2.14 (from nashpy)\n",
            "  Downloading Deprecated-1.2.18-py2.py3-none-any.whl.metadata (5.7 kB)\n",
            "Requirement already satisfied: wrapt<2,>=1.10 in /usr/local/lib/python3.11/dist-packages (from deprecated>=1.2.14->nashpy) (1.17.2)\n",
            "Downloading nashpy-0.0.41-py3-none-any.whl (27 kB)\n",
            "Downloading Deprecated-1.2.18-py2.py3-none-any.whl (10.0 kB)\n",
            "Installing collected packages: deprecated, nashpy\n",
            "Successfully installed deprecated-1.2.18 nashpy-0.0.41\n"
          ]
        }
      ]
    },
    {
      "cell_type": "code",
      "execution_count": 3,
      "metadata": {
        "colab": {
          "base_uri": "https://localhost:8080/"
        },
        "id": "CR4Gw5oeb6VW",
        "outputId": "bfa88144-0e88-4244-abe0-bfc1b49fc27f"
      },
      "outputs": [
        {
          "output_type": "stream",
          "name": "stdout",
          "text": [
            "Juego definido:\n",
            "Bi matrix game with payoff matrices:\n",
            "\n",
            "Row player:\n",
            "[[3 5]\n",
            " [1 4]]\n",
            "\n",
            "Column player:\n",
            "[[3 1]\n",
            " [5 4]]\n",
            "\n",
            "Equilibrios de Nash encontrados:\n",
            "Estrategia Empresa A: [1. 0.], Estrategia Empresa B: [1. 0.]\n"
          ]
        }
      ],
      "source": [
        "import numpy as np\n",
        "import nashpy as nash\n",
        "\n",
        "# Definir matriz de pagos\n",
        "# Empresa A: filas, Empresa B: columnas\n",
        "# Formato: (pago_A, pago_B)\n",
        "payoff_A = np.array([\n",
        "    [3, 5],\n",
        "    [1, 4]\n",
        "])\n",
        "\n",
        "payoff_B = np.array([\n",
        "    [3, 1],\n",
        "    [5, 4]\n",
        "])\n",
        "\n",
        "# Crear juego\n",
        "game = nash.Game(payoff_A, payoff_B)\n",
        "\n",
        "# Mostrar juego\n",
        "print(\"Juego definido:\")\n",
        "print(game)\n",
        "\n",
        "# Calcular equilibrios de Nash\n",
        "equilibria = list(game.support_enumeration())\n",
        "print(\"\\nEquilibrios de Nash encontrados:\")\n",
        "for eq in equilibria:\n",
        "    print(f\"Estrategia Empresa A: {eq[0]}, Estrategia Empresa B: {eq[1]}\")\n"
      ]
    },
    {
      "cell_type": "code",
      "source": [
        "import numpy as np\n",
        "import nashpy as nash\n",
        "\n",
        "# Matriz de pagos avanzada con 3 estrategias\n",
        "payoff_A = np.array([\n",
        "    [2, 4, 5],\n",
        "    [1, 3, 4],\n",
        "    [0, 2, 3]\n",
        "])\n",
        "\n",
        "payoff_B = np.array([\n",
        "    [2, 1, 0],\n",
        "    [4, 3, 2],\n",
        "    [5, 4, 3]\n",
        "])\n",
        "\n",
        "game_adv = nash.Game(payoff_A, payoff_B)\n",
        "\n",
        "print(\"Juego avanzado definido (3 estrategias):\")\n",
        "print(game_adv)\n",
        "\n",
        "# Equilibrios de Nash (pueden ser mixtos)\n",
        "equilibria = list(game_adv.support_enumeration())\n",
        "print(\"\\nEquilibrios de Nash encontrados:\")\n",
        "for eq in equilibria:\n",
        "    strat_A, strat_B = eq\n",
        "    print(f\"Estrategia Empresa A: {np.round(strat_A, 2)}\")\n",
        "    print(f\"Estrategia Empresa B: {np.round(strat_B, 2)}\")\n"
      ],
      "metadata": {
        "colab": {
          "base_uri": "https://localhost:8080/"
        },
        "id": "-5jXG1UDcR2r",
        "outputId": "714bfde5-7b18-41df-d4a1-e083bf0c21d3"
      },
      "execution_count": 4,
      "outputs": [
        {
          "output_type": "stream",
          "name": "stdout",
          "text": [
            "Juego avanzado definido (3 estrategias):\n",
            "Bi matrix game with payoff matrices:\n",
            "\n",
            "Row player:\n",
            "[[2 4 5]\n",
            " [1 3 4]\n",
            " [0 2 3]]\n",
            "\n",
            "Column player:\n",
            "[[2 1 0]\n",
            " [4 3 2]\n",
            " [5 4 3]]\n",
            "\n",
            "Equilibrios de Nash encontrados:\n",
            "Estrategia Empresa A: [1. 0. 0.]\n",
            "Estrategia Empresa B: [1. 0. 0.]\n"
          ]
        }
      ]
    },
    {
      "cell_type": "code",
      "source": [
        "payoff_A_mix = np.array([\n",
        "    [1, -1],\n",
        "    [-1, 1]\n",
        "])\n",
        "\n",
        "payoff_B_mix = np.array([\n",
        "    [1, -1],\n",
        "    [-1, 1]\n",
        "])\n",
        "\n",
        "game_mix = nash.Game(payoff_A_mix, payoff_B_mix)\n",
        "print(\"Juego mixto puro (clásico Matching Pennies):\")\n",
        "print(game_mix)\n",
        "\n",
        "equilibria_mix = list(game_mix.support_enumeration())\n",
        "print(\"\\nEquilibrio mixto (Matching Pennies):\")\n",
        "for eq in equilibria_mix:\n",
        "    print(f\"Estrategia Empresa A: {np.round(eq[0], 2)}, Estrategia Empresa B: {np.round(eq[1], 2)}\")\n"
      ],
      "metadata": {
        "colab": {
          "base_uri": "https://localhost:8080/"
        },
        "id": "6XcCsXW_c6I4",
        "outputId": "2dfa3adb-d4e0-4d26-f933-e090c9837a48"
      },
      "execution_count": 5,
      "outputs": [
        {
          "output_type": "stream",
          "name": "stdout",
          "text": [
            "Juego mixto puro (clásico Matching Pennies):\n",
            "Bi matrix game with payoff matrices:\n",
            "\n",
            "Row player:\n",
            "[[ 1 -1]\n",
            " [-1  1]]\n",
            "\n",
            "Column player:\n",
            "[[ 1 -1]\n",
            " [-1  1]]\n",
            "\n",
            "Equilibrio mixto (Matching Pennies):\n",
            "Estrategia Empresa A: [1. 0.], Estrategia Empresa B: [1. 0.]\n",
            "Estrategia Empresa A: [0. 1.], Estrategia Empresa B: [0. 1.]\n",
            "Estrategia Empresa A: [0.5 0.5], Estrategia Empresa B: [0.5 0.5]\n"
          ]
        }
      ]
    },
    {
      "cell_type": "code",
      "source": [
        "payoff_A_asym = np.array([\n",
        "    [3, 4, 5],\n",
        "    [2, 3, 4],\n",
        "    [1, 2, 3]\n",
        "])\n",
        "\n",
        "payoff_B_asym = np.array([\n",
        "    [2, 1, 0],\n",
        "    [3, 3, 2],\n",
        "    [4, 4, 3]\n",
        "])\n",
        "\n",
        "game_asym = nash.Game(payoff_A_asym, payoff_B_asym)\n",
        "print(\"\\nJuego asimétrico realista definido:\")\n",
        "print(game_asym)\n",
        "\n",
        "equilibria_asym = list(game_asym.support_enumeration())\n",
        "print(\"\\nEquilibrios de Nash en juego asimétrico:\")\n",
        "for eq in equilibria_asym:\n",
        "    print(f\"Estrategia Empresa A: {np.round(eq[0], 2)}, Estrategia Empresa B: {np.round(eq[1], 2)}\")\n"
      ],
      "metadata": {
        "colab": {
          "base_uri": "https://localhost:8080/"
        },
        "id": "tGARDf0cdLLh",
        "outputId": "e263c7ce-c2ff-4a71-d28c-222139fea8ca"
      },
      "execution_count": 6,
      "outputs": [
        {
          "output_type": "stream",
          "name": "stdout",
          "text": [
            "\n",
            "Juego asimétrico realista definido:\n",
            "Bi matrix game with payoff matrices:\n",
            "\n",
            "Row player:\n",
            "[[3 4 5]\n",
            " [2 3 4]\n",
            " [1 2 3]]\n",
            "\n",
            "Column player:\n",
            "[[2 1 0]\n",
            " [3 3 2]\n",
            " [4 4 3]]\n",
            "\n",
            "Equilibrios de Nash en juego asimétrico:\n",
            "Estrategia Empresa A: [1. 0. 0.], Estrategia Empresa B: [1. 0. 0.]\n"
          ]
        }
      ]
    },
    {
      "cell_type": "code",
      "source": [
        "sigma_A = np.array([0.5, 0.5])  # equilibrio mixto en Matching Pennies\n",
        "sigma_B = np.array([0.5, 0.5])\n",
        "\n",
        "expected_payoff_A = sigma_A @ payoff_A_mix @ sigma_B.T\n",
        "expected_payoff_B = sigma_A @ payoff_B_mix @ sigma_B.T\n",
        "\n",
        "print(\"\\nPagos esperados bajo equilibrio mixto (Matching Pennies):\")\n",
        "print(f\"Pago esperado Empresa A: {expected_payoff_A:.2f}\")\n",
        "print(f\"Pago esperado Empresa B: {expected_payoff_B:.2f}\")\n"
      ],
      "metadata": {
        "colab": {
          "base_uri": "https://localhost:8080/"
        },
        "id": "Bvga7CLUdQ-2",
        "outputId": "76fe0727-779c-45de-d45e-cf0a4ee22c26"
      },
      "execution_count": 7,
      "outputs": [
        {
          "output_type": "stream",
          "name": "stdout",
          "text": [
            "\n",
            "Pagos esperados bajo equilibrio mixto (Matching Pennies):\n",
            "Pago esperado Empresa A: 0.00\n",
            "Pago esperado Empresa B: 0.00\n"
          ]
        }
      ]
    },
    {
      "cell_type": "code",
      "source": [],
      "metadata": {
        "id": "ScXNRGsGdXtQ"
      },
      "execution_count": null,
      "outputs": []
    }
  ]
}